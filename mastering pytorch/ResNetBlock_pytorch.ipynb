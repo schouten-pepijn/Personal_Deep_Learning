{
 "cells": [
  {
   "cell_type": "code",
   "execution_count": null,
   "metadata": {},
   "outputs": [],
   "source": [
    "import torch.nn as nn"
   ]
  },
  {
   "cell_type": "code",
   "execution_count": null,
   "metadata": {},
   "outputs": [],
   "source": [
    "class BasicBlock(nn.Module):\n",
    "    multiplier=1\n",
    "    def __init__(self, input_num_planes, num_planes, strd=1):\n",
    "        super(BasicBlock, self).__init__()\n",
    "        self.conv_layer1 = nn.Conv2d(in_channels=input_num_planes, out_channels=num_planes, kernel_size=3, stride=stride, padding=1, bias=False)\n",
    "        self.batch_norm1 = nn.BatchNorm2d(num_planes)\n",
    "        self.conv_layer2 = nn.Conv2d(in_channels=num_planes, out_channels=num_planes, kernel_size=3, stride=1, padding=1, bias=False)\n",
    "        self.batch_norm2 = nn.BatchNorm2d(num_planes)\n",
    " \n",
    "        self.res_connnection = nn.Sequential()\n",
    "        if strd > 1 or input_num_planes != self.multiplier*num_planes:\n",
    "            self.res_connnection = nn.Sequential(\n",
    "                nn.Conv2d(in_channels=input_num_planes, out_channels=self.multiplier*num_planes, kernel_size=1, stride=strd, bias=False),\n",
    "                nn.BatchNorm2d(self.multiplier*num_planes)\n",
    "            )\n",
    "    def forward(self, inp):\n",
    "        op = F.relu(self.batch_norm1(self.conv_layer1(inp)))\n",
    "        op = self.batch_norm2(self.conv_layer2(op))\n",
    "        op += self.res_connnection(inp)\n",
    "        op = F.relu(op)\n",
    "        return op"
   ]
  }
 ],
 "metadata": {
  "kernelspec": {
   "display_name": "mastering_pytorch",
   "language": "python",
   "name": "python3"
  },
  "language_info": {
   "name": "python",
   "version": "3.12.7"
  }
 },
 "nbformat": 4,
 "nbformat_minor": 2
}
