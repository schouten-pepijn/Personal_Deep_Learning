{
 "cells": [
  {
   "cell_type": "markdown",
   "metadata": {},
   "source": [
    "IMPORTS"
   ]
  },
  {
   "cell_type": "code",
   "execution_count": null,
   "metadata": {},
   "outputs": [],
   "source": [
    "import os\n",
    "import time\n",
    "import copy\n",
    "import numpy as np\n",
    "from matplotlib import pyplot as plt\n",
    "import torch\n",
    "import torch.nn as nn\n",
    "import torch.optim as optim\n",
    "import torchvision\n",
    "from torchvision import datasets, models, transforms"
   ]
  },
  {
   "cell_type": "markdown",
   "metadata": {},
   "source": [
    "DATA IMPORT"
   ]
  },
  {
   "cell_type": "code",
   "execution_count": null,
   "metadata": {},
   "outputs": [],
   "source": [
    "data_dir = '/Users/pepijnschouten/Desktop/Python_Scripts/' \\\n",
    "    'Python_Scripts_Books/Deep_Learning/Mastering_Pytorch/' \\\n",
    "        'Datasets/BEES_ANTS_JPG'\n",
    "        \n",
    "#  define data transforms\n",
    "data_transforms = {\n",
    "    'train': transforms.Compose([\n",
    "        transforms.RandomResizedCrop(224),\n",
    "        transforms.RandomHorizontalFlip(),\n",
    "        transforms.ToTensor(),\n",
    "        transforms.Normalize([0.490, 0.449, 0.411],\n",
    "                             [0.231, 0.221, 0.230])\n",
    "    ]),\n",
    "    'val': transforms.Compose([\n",
    "        transforms.Resize(256),\n",
    "        transforms.CenterCrop(224),\n",
    "        transforms.ToTensor(),\n",
    "        transforms.Normalize([0.490, 0.449, 0.411],\n",
    "                        [0.231, 0.221, 0.230])\n",
    "    ]),\n",
    "}\n",
    "\n",
    "img_data = {\n",
    "    k: datasets.ImageFolder(os.path.join(data_dir, k),\n",
    "                            data_transforms[k])\n",
    "    for k in ['train', 'val']\n",
    "}\n",
    "\n",
    "data_loaders = {\n",
    "    k: torch.utils.data.DataLoader(img_data[k],\n",
    "                                   batch_size=8,\n",
    "                                   shuffle=True,\n",
    "                                   num_workers=4)\n",
    "    for k in ['train', 'val']\n",
    "}\n",
    "\n",
    "dataset_sizes = {\n",
    "    x: len(img_data[x]) for x in ['train', 'val']\n",
    "}\n",
    "\n",
    "classes = img_data['train'].classes\n",
    "\n",
    "device = torch.device(\"mps\") if torch.backends.mps.is_available() else torch.device(\"cpu\")\n",
    "device = torch.device('cpu')"
   ]
  },
  {
   "cell_type": "markdown",
   "metadata": {},
   "source": [
    "DATA INSPECTION"
   ]
  },
  {
   "cell_type": "code",
   "execution_count": null,
   "metadata": {},
   "outputs": [],
   "source": [
    "def image_show(img, text=None):\n",
    "    img = img.numpy().transpose((1, 2, 0))\n",
    "    mean = np.array([0.490, 0.449, 0.411])\n",
    "    sd = np.array([0.231, 0.221, 0.230])\n",
    "    img = sd * img + mean\n",
    "    img = np.clip(img, 0, 1)\n",
    "    \n",
    "    plt.figure(dpi=100, tight_layout=True)\n",
    "    plt.imshow(img)\n",
    "    if text is not None:\n",
    "        plt.title(text)\n",
    "    plt.axis('off')\n",
    "    plt.show()\n",
    "\n",
    "# generate one training batch\n",
    "imgs, cls = next(iter(data_loaders['train']))\n",
    "\n",
    "# generate a grid\n",
    "grid = torchvision.utils.make_grid(imgs)\n",
    "\n",
    "image_show(grid,\n",
    "           text=[classes[c] for c in cls]\n",
    ")\n",
    "    "
   ]
  },
  {
   "cell_type": "markdown",
   "metadata": {},
   "source": [
    "DUAL TRAINING LOOP"
   ]
  },
  {
   "cell_type": "code",
   "execution_count": null,
   "metadata": {},
   "outputs": [],
   "source": [
    "def train_pretrained_model(pretrained_model, criterion,\n",
    "                optimizer, scheduler, num_epochs=10):\n",
    "    start_time = time.time()\n",
    "    \n",
    "    pretrained_model = pretrained_model.to(device)\n",
    "    \n",
    "    model_weights = copy.deepcopy(pretrained_model.state_dict())\n",
    "    \n",
    "    accuracy = 0. \n",
    "    \n",
    "    for epoch in range(num_epochs):\n",
    "        print(f\"Epoch: {epoch+1:3}/{num_epochs}\")\n",
    "        print(\"=\"*30)\n",
    "        \n",
    "        for dataset in ['train', 'val']:\n",
    "            if dataset == 'train':\n",
    "                pretrained_model.train()\n",
    "            else:\n",
    "                pretrained_model.eval()\n",
    "                \n",
    "            running_loss = 0. \n",
    "            running_successes = 0. \n",
    "            \n",
    "            for inputs, labels in data_loaders[dataset]:\n",
    "                inputs = inputs.to(device)\n",
    "                labels = labels.to(device)\n",
    "                \n",
    "                optimizer.zero_grad()\n",
    "                \n",
    "                # context manager for training or validation mode\n",
    "                with torch.set_grad_enabled(dataset == 'train'):\n",
    "                    outputs = pretrained_model(inputs)\n",
    "                    _, predictions = torch.max(outputs, 1)\n",
    "                    loss = criterion(outputs, labels)\n",
    "                    \n",
    "                    if dataset == 'train':\n",
    "                        loss.backward()\n",
    "                        optimizer.step()\n",
    "                    \n",
    "                running_loss += loss.item() * inputs.size(0)\n",
    "                running_successes += torch.sum(predictions == labels.data)\n",
    "            \n",
    "            epoch_loss = loss / dataset_sizes[dataset]\n",
    "            epoch_accuracy = running_successes / dataset_sizes[dataset]\n",
    "            \n",
    "            print(f'{dataset} loss in this epoch: {epoch_loss:.4f}')\n",
    "            print(f'{dataset} accuracy in this epoch: {100*epoch_accuracy:.2f}%')\n",
    "            \n",
    "            if dataset == 'val' and epoch_accuracy > accuracy:\n",
    "                accuracy = epoch_accuracy\n",
    "                best_weights = copy.deepcopy(pretrained_model.state_dict())\n",
    "        print()\n",
    "        \n",
    "    elapsed_time = time.time() - start_time\n",
    "    print(f\"Training complete in {elapsed_time//60:.0f}m {elapsed_time%60:.0f}s\")\n",
    "    print(f\"Best val accuracy: {100*accuracy:.2f}%\")\n",
    "\n",
    "    pretrained_model.load_state_dict(best_weights)\n",
    "\n",
    "    return pretrained_model"
   ]
  },
  {
   "cell_type": "markdown",
   "metadata": {},
   "source": [
    "START TRAINING"
   ]
  },
  {
   "cell_type": "code",
   "execution_count": null,
   "metadata": {},
   "outputs": [],
   "source": [
    "pretrained_alexnet = models.alexnet(\n",
    "    weights='DEFAULT'\n",
    ")\n",
    "\n",
    "print(pretrained_alexnet)\n",
    "print(pretrained_alexnet.classifier)\n",
    "\n",
    "#  change the last classifier layer\n",
    "pretrained_alexnet.classifier[6] = nn.Linear(4096, len(classes))\n",
    "\n",
    "criterion = nn.CrossEntropyLoss()\n",
    "optimizer = optim.SGD(pretrained_alexnet.parameters(), lr=0.0001)"
   ]
  },
  {
   "cell_type": "code",
   "execution_count": null,
   "metadata": {},
   "outputs": [],
   "source": [
    "# start the training\n",
    "pretrained_alexnet = train_pretrained_model(pretrained_alexnet, criterion,\n",
    "                optimizer, scheduler=None, num_epochs=10\n",
    ")"
   ]
  },
  {
   "cell_type": "markdown",
   "metadata": {},
   "source": [
    "VISUALIZE PREDICTIONS"
   ]
  },
  {
   "cell_type": "code",
   "execution_count": null,
   "metadata": {},
   "outputs": [],
   "source": [
    "def visualize_predictions(pretrained_model, max_num_imgs=4):\n",
    "    torch.manual_seed(1)\n",
    "    was_model_training = pretrained_model.training\n",
    "    pretrained_model.eval()\n",
    "    imgs_counter = 0\n",
    "    fig = plt.figure()\n",
    "\n",
    "    with torch.no_grad():\n",
    "        for i, (inputs, labels) in enumerate(data_loaders['val']):\n",
    "            inputs = inputs.to(device)\n",
    "            labels = labels.to(device)\n",
    "            ops = pretrained_model(inputs)\n",
    "            _, predictions = torch.max(ops, 1)\n",
    "            \n",
    "            for j in range(inputs.size()[0]):\n",
    "                imgs_counter += 1\n",
    "                ax = plt.subplot(max_num_imgs//2, 2, imgs_counter)\n",
    "                ax.axis('off')\n",
    "                ax.set_title(f'pred: {classes[predictions[j]]} || target: {classes[labels[j]]}')\n",
    "                image_show(inputs.cpu().data[j])\n",
    "\n",
    "                if imgs_counter == max_num_imgs:\n",
    "                    pretrained_model.train(mode=was_model_training)\n",
    "                    plt.show()\n",
    "                    return\n",
    "        pretrained_model.train(mode=was_model_training)\n",
    "        \n",
    "visualize_predictions(pretrained_alexnet)"
   ]
  }
 ],
 "metadata": {
  "kernelspec": {
   "display_name": "mastering_pytorch",
   "language": "python",
   "name": "python3"
  },
  "language_info": {
   "codemirror_mode": {
    "name": "ipython",
    "version": 3
   },
   "file_extension": ".py",
   "mimetype": "text/x-python",
   "name": "python",
   "nbconvert_exporter": "python",
   "pygments_lexer": "ipython3",
   "version": "3.12.7"
  }
 },
 "nbformat": 4,
 "nbformat_minor": 2
}
